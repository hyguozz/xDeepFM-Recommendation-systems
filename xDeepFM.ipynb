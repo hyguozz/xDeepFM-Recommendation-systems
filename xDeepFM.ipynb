{
  "cells": [
    {
      "cell_type": "code",
      "execution_count": 1,
      "metadata": {
        "id": "3FhNg9k0SCKY"
      },
      "outputs": [],
      "source": [
        "import numpy as np\n",
        "import pandas as pd\n",
        "import tensorflow as tf\n",
        "from tensorflow.keras.models import Model\n",
        "from tensorflow.keras.utils import plot_model\n",
        "from tensorflow.keras.layers import *\n",
        "import tensorflow.keras.backend as K\n",
        "import matplotlib.pyplot as plt\n",
        "%matplotlib inline"
      ]
    },
    {
      "cell_type": "code",
      "source": [
        "from google.colab import drive\n",
        "drive.mount(\"/content/drive/\")"
      ],
      "metadata": {
        "colab": {
          "base_uri": "https://localhost:8080/"
        },
        "id": "Xf7BQE6AaEVY",
        "outputId": "80eb93ed-3f04-4ea5-8fce-1a80e399f70a"
      },
      "execution_count": 2,
      "outputs": [
        {
          "output_type": "stream",
          "name": "stdout",
          "text": [
            "Mounted at /content/drive/\n"
          ]
        }
      ]
    },
    {
      "cell_type": "code",
      "source": [
        "cd /content/drive/MyDrive/'Colab Notebooks'/DeepFM"
      ],
      "metadata": {
        "colab": {
          "base_uri": "https://localhost:8080/"
        },
        "id": "QAw8TxQbaFM1",
        "outputId": "07ebc24d-8be4-4033-c1ed-32c441a2202f"
      },
      "execution_count": 3,
      "outputs": [
        {
          "output_type": "stream",
          "name": "stdout",
          "text": [
            "/content/drive/MyDrive/Colab Notebooks/DeepFM\n"
          ]
        }
      ]
    },
    {
      "cell_type": "code",
      "source": [
        "ls"
      ],
      "metadata": {
        "colab": {
          "base_uri": "https://localhost:8080/"
        },
        "id": "FcVbjbhEhxRo",
        "outputId": "95fb2615-7dbd-439e-83a5-bd65d48e72f2"
      },
      "execution_count": 4,
      "outputs": [
        {
          "output_type": "stream",
          "name": "stdout",
          "text": [
            "criteo_sampled_data.csv  xDeepFM.ipynb\n"
          ]
        }
      ]
    },
    {
      "cell_type": "markdown",
      "metadata": {
        "id": "wnqbSVtLSCKb"
      },
      "source": [
        "# Read in the dataset"
      ]
    },
    {
      "cell_type": "code",
      "execution_count": 5,
      "metadata": {
        "id": "4GsYc908SCKd"
      },
      "outputs": [],
      "source": [
        "data = pd.read_csv('criteo_sampled_data.csv')"
      ]
    },
    {
      "cell_type": "code",
      "execution_count": 6,
      "metadata": {
        "colab": {
          "base_uri": "https://localhost:8080/",
          "height": 300
        },
        "id": "V8SvcQwdSCKe",
        "outputId": "780fb831-6d14-476e-dd1a-fccbae9b84b4"
      },
      "outputs": [
        {
          "output_type": "execute_result",
          "data": {
            "text/plain": [
              "   label   I1   I2    I3    I4      I5    I6    I7   I8     I9  ...       C17  \\\n",
              "0      0  1.0    1   5.0   0.0  1382.0   4.0  15.0  2.0  181.0  ...  e5ba7672   \n",
              "1      0  2.0    0  44.0   1.0   102.0   8.0   2.0  2.0    4.0  ...  07c540c4   \n",
              "2      0  2.0    0   1.0  14.0   767.0  89.0   4.0  2.0  245.0  ...  8efede7f   \n",
              "3      0  NaN  893   NaN   NaN  4392.0   NaN   0.0  0.0    0.0  ...  1e88c74f   \n",
              "4      0  3.0   -1   NaN   0.0     2.0   0.0   3.0  0.0    0.0  ...  1e88c74f   \n",
              "\n",
              "        C18       C19       C20       C21       C22       C23       C24  \\\n",
              "0  f54016b9  21ddcdc9  b1252a9d  07b5194c       NaN  3a171ecb  c5c50484   \n",
              "1  b04e4670  21ddcdc9  5840adea  60f6221e       NaN  3a171ecb  43f13e8b   \n",
              "2  3412118d       NaN       NaN  e587c466  ad3062eb  3a171ecb  3b183c5c   \n",
              "3  74ef3502       NaN       NaN  6b3a5ca6       NaN  3a171ecb  9117a34a   \n",
              "4  26b3c7a7       NaN       NaN  21c9516a       NaN  32c7478e  b34f3128   \n",
              "\n",
              "        C25       C26  \n",
              "0  e8b83407  9727dd16  \n",
              "1  e8b83407  731c3655  \n",
              "2       NaN       NaN  \n",
              "3       NaN       NaN  \n",
              "4       NaN       NaN  \n",
              "\n",
              "[5 rows x 40 columns]"
            ],
            "text/html": [
              "\n",
              "  <div id=\"df-c0c1713c-3afb-4152-b253-6e2184a71e1d\">\n",
              "    <div class=\"colab-df-container\">\n",
              "      <div>\n",
              "<style scoped>\n",
              "    .dataframe tbody tr th:only-of-type {\n",
              "        vertical-align: middle;\n",
              "    }\n",
              "\n",
              "    .dataframe tbody tr th {\n",
              "        vertical-align: top;\n",
              "    }\n",
              "\n",
              "    .dataframe thead th {\n",
              "        text-align: right;\n",
              "    }\n",
              "</style>\n",
              "<table border=\"1\" class=\"dataframe\">\n",
              "  <thead>\n",
              "    <tr style=\"text-align: right;\">\n",
              "      <th></th>\n",
              "      <th>label</th>\n",
              "      <th>I1</th>\n",
              "      <th>I2</th>\n",
              "      <th>I3</th>\n",
              "      <th>I4</th>\n",
              "      <th>I5</th>\n",
              "      <th>I6</th>\n",
              "      <th>I7</th>\n",
              "      <th>I8</th>\n",
              "      <th>I9</th>\n",
              "      <th>...</th>\n",
              "      <th>C17</th>\n",
              "      <th>C18</th>\n",
              "      <th>C19</th>\n",
              "      <th>C20</th>\n",
              "      <th>C21</th>\n",
              "      <th>C22</th>\n",
              "      <th>C23</th>\n",
              "      <th>C24</th>\n",
              "      <th>C25</th>\n",
              "      <th>C26</th>\n",
              "    </tr>\n",
              "  </thead>\n",
              "  <tbody>\n",
              "    <tr>\n",
              "      <th>0</th>\n",
              "      <td>0</td>\n",
              "      <td>1.0</td>\n",
              "      <td>1</td>\n",
              "      <td>5.0</td>\n",
              "      <td>0.0</td>\n",
              "      <td>1382.0</td>\n",
              "      <td>4.0</td>\n",
              "      <td>15.0</td>\n",
              "      <td>2.0</td>\n",
              "      <td>181.0</td>\n",
              "      <td>...</td>\n",
              "      <td>e5ba7672</td>\n",
              "      <td>f54016b9</td>\n",
              "      <td>21ddcdc9</td>\n",
              "      <td>b1252a9d</td>\n",
              "      <td>07b5194c</td>\n",
              "      <td>NaN</td>\n",
              "      <td>3a171ecb</td>\n",
              "      <td>c5c50484</td>\n",
              "      <td>e8b83407</td>\n",
              "      <td>9727dd16</td>\n",
              "    </tr>\n",
              "    <tr>\n",
              "      <th>1</th>\n",
              "      <td>0</td>\n",
              "      <td>2.0</td>\n",
              "      <td>0</td>\n",
              "      <td>44.0</td>\n",
              "      <td>1.0</td>\n",
              "      <td>102.0</td>\n",
              "      <td>8.0</td>\n",
              "      <td>2.0</td>\n",
              "      <td>2.0</td>\n",
              "      <td>4.0</td>\n",
              "      <td>...</td>\n",
              "      <td>07c540c4</td>\n",
              "      <td>b04e4670</td>\n",
              "      <td>21ddcdc9</td>\n",
              "      <td>5840adea</td>\n",
              "      <td>60f6221e</td>\n",
              "      <td>NaN</td>\n",
              "      <td>3a171ecb</td>\n",
              "      <td>43f13e8b</td>\n",
              "      <td>e8b83407</td>\n",
              "      <td>731c3655</td>\n",
              "    </tr>\n",
              "    <tr>\n",
              "      <th>2</th>\n",
              "      <td>0</td>\n",
              "      <td>2.0</td>\n",
              "      <td>0</td>\n",
              "      <td>1.0</td>\n",
              "      <td>14.0</td>\n",
              "      <td>767.0</td>\n",
              "      <td>89.0</td>\n",
              "      <td>4.0</td>\n",
              "      <td>2.0</td>\n",
              "      <td>245.0</td>\n",
              "      <td>...</td>\n",
              "      <td>8efede7f</td>\n",
              "      <td>3412118d</td>\n",
              "      <td>NaN</td>\n",
              "      <td>NaN</td>\n",
              "      <td>e587c466</td>\n",
              "      <td>ad3062eb</td>\n",
              "      <td>3a171ecb</td>\n",
              "      <td>3b183c5c</td>\n",
              "      <td>NaN</td>\n",
              "      <td>NaN</td>\n",
              "    </tr>\n",
              "    <tr>\n",
              "      <th>3</th>\n",
              "      <td>0</td>\n",
              "      <td>NaN</td>\n",
              "      <td>893</td>\n",
              "      <td>NaN</td>\n",
              "      <td>NaN</td>\n",
              "      <td>4392.0</td>\n",
              "      <td>NaN</td>\n",
              "      <td>0.0</td>\n",
              "      <td>0.0</td>\n",
              "      <td>0.0</td>\n",
              "      <td>...</td>\n",
              "      <td>1e88c74f</td>\n",
              "      <td>74ef3502</td>\n",
              "      <td>NaN</td>\n",
              "      <td>NaN</td>\n",
              "      <td>6b3a5ca6</td>\n",
              "      <td>NaN</td>\n",
              "      <td>3a171ecb</td>\n",
              "      <td>9117a34a</td>\n",
              "      <td>NaN</td>\n",
              "      <td>NaN</td>\n",
              "    </tr>\n",
              "    <tr>\n",
              "      <th>4</th>\n",
              "      <td>0</td>\n",
              "      <td>3.0</td>\n",
              "      <td>-1</td>\n",
              "      <td>NaN</td>\n",
              "      <td>0.0</td>\n",
              "      <td>2.0</td>\n",
              "      <td>0.0</td>\n",
              "      <td>3.0</td>\n",
              "      <td>0.0</td>\n",
              "      <td>0.0</td>\n",
              "      <td>...</td>\n",
              "      <td>1e88c74f</td>\n",
              "      <td>26b3c7a7</td>\n",
              "      <td>NaN</td>\n",
              "      <td>NaN</td>\n",
              "      <td>21c9516a</td>\n",
              "      <td>NaN</td>\n",
              "      <td>32c7478e</td>\n",
              "      <td>b34f3128</td>\n",
              "      <td>NaN</td>\n",
              "      <td>NaN</td>\n",
              "    </tr>\n",
              "  </tbody>\n",
              "</table>\n",
              "<p>5 rows × 40 columns</p>\n",
              "</div>\n",
              "      <button class=\"colab-df-convert\" onclick=\"convertToInteractive('df-c0c1713c-3afb-4152-b253-6e2184a71e1d')\"\n",
              "              title=\"Convert this dataframe to an interactive table.\"\n",
              "              style=\"display:none;\">\n",
              "        \n",
              "  <svg xmlns=\"http://www.w3.org/2000/svg\" height=\"24px\"viewBox=\"0 0 24 24\"\n",
              "       width=\"24px\">\n",
              "    <path d=\"M0 0h24v24H0V0z\" fill=\"none\"/>\n",
              "    <path d=\"M18.56 5.44l.94 2.06.94-2.06 2.06-.94-2.06-.94-.94-2.06-.94 2.06-2.06.94zm-11 1L8.5 8.5l.94-2.06 2.06-.94-2.06-.94L8.5 2.5l-.94 2.06-2.06.94zm10 10l.94 2.06.94-2.06 2.06-.94-2.06-.94-.94-2.06-.94 2.06-2.06.94z\"/><path d=\"M17.41 7.96l-1.37-1.37c-.4-.4-.92-.59-1.43-.59-.52 0-1.04.2-1.43.59L10.3 9.45l-7.72 7.72c-.78.78-.78 2.05 0 2.83L4 21.41c.39.39.9.59 1.41.59.51 0 1.02-.2 1.41-.59l7.78-7.78 2.81-2.81c.8-.78.8-2.07 0-2.86zM5.41 20L4 18.59l7.72-7.72 1.47 1.35L5.41 20z\"/>\n",
              "  </svg>\n",
              "      </button>\n",
              "      \n",
              "  <style>\n",
              "    .colab-df-container {\n",
              "      display:flex;\n",
              "      flex-wrap:wrap;\n",
              "      gap: 12px;\n",
              "    }\n",
              "\n",
              "    .colab-df-convert {\n",
              "      background-color: #E8F0FE;\n",
              "      border: none;\n",
              "      border-radius: 50%;\n",
              "      cursor: pointer;\n",
              "      display: none;\n",
              "      fill: #1967D2;\n",
              "      height: 32px;\n",
              "      padding: 0 0 0 0;\n",
              "      width: 32px;\n",
              "    }\n",
              "\n",
              "    .colab-df-convert:hover {\n",
              "      background-color: #E2EBFA;\n",
              "      box-shadow: 0px 1px 2px rgba(60, 64, 67, 0.3), 0px 1px 3px 1px rgba(60, 64, 67, 0.15);\n",
              "      fill: #174EA6;\n",
              "    }\n",
              "\n",
              "    [theme=dark] .colab-df-convert {\n",
              "      background-color: #3B4455;\n",
              "      fill: #D2E3FC;\n",
              "    }\n",
              "\n",
              "    [theme=dark] .colab-df-convert:hover {\n",
              "      background-color: #434B5C;\n",
              "      box-shadow: 0px 1px 3px 1px rgba(0, 0, 0, 0.15);\n",
              "      filter: drop-shadow(0px 1px 2px rgba(0, 0, 0, 0.3));\n",
              "      fill: #FFFFFF;\n",
              "    }\n",
              "  </style>\n",
              "\n",
              "      <script>\n",
              "        const buttonEl =\n",
              "          document.querySelector('#df-c0c1713c-3afb-4152-b253-6e2184a71e1d button.colab-df-convert');\n",
              "        buttonEl.style.display =\n",
              "          google.colab.kernel.accessAllowed ? 'block' : 'none';\n",
              "\n",
              "        async function convertToInteractive(key) {\n",
              "          const element = document.querySelector('#df-c0c1713c-3afb-4152-b253-6e2184a71e1d');\n",
              "          const dataTable =\n",
              "            await google.colab.kernel.invokeFunction('convertToInteractive',\n",
              "                                                     [key], {});\n",
              "          if (!dataTable) return;\n",
              "\n",
              "          const docLinkHtml = 'Like what you see? Visit the ' +\n",
              "            '<a target=\"_blank\" href=https://colab.research.google.com/notebooks/data_table.ipynb>data table notebook</a>'\n",
              "            + ' to learn more about interactive tables.';\n",
              "          element.innerHTML = '';\n",
              "          dataTable['output_type'] = 'display_data';\n",
              "          await google.colab.output.renderOutput(dataTable, element);\n",
              "          const docLink = document.createElement('div');\n",
              "          docLink.innerHTML = docLinkHtml;\n",
              "          element.appendChild(docLink);\n",
              "        }\n",
              "      </script>\n",
              "    </div>\n",
              "  </div>\n",
              "  "
            ]
          },
          "metadata": {},
          "execution_count": 6
        }
      ],
      "source": [
        "data.head()"
      ]
    },
    {
      "cell_type": "code",
      "execution_count": 7,
      "metadata": {
        "id": "LFS2H5L2SCKg"
      },
      "outputs": [],
      "source": [
        "cols = data.columns.values"
      ]
    },
    {
      "cell_type": "markdown",
      "metadata": {
        "id": "PbB8PtgDSCKh"
      },
      "source": [
        "# Data Preprocessing"
      ]
    },
    {
      "cell_type": "markdown",
      "metadata": {
        "id": "r6huw_zYSCKh"
      },
      "source": [
        "## Define dense feature set, and sparse feature set. "
      ]
    },
    {
      "cell_type": "code",
      "execution_count": 8,
      "metadata": {
        "id": "PF3hBsjzSCKi"
      },
      "outputs": [],
      "source": [
        "dense_feats = [f for f in cols if f[0] == \"I\"]\n",
        "sparse_feats = [f for f in cols if f[0] == \"C\"]"
      ]
    },
    {
      "cell_type": "code",
      "source": [
        "sparse_feats"
      ],
      "metadata": {
        "id": "QWj3CgAah9Ie"
      },
      "execution_count": null,
      "outputs": []
    },
    {
      "cell_type": "markdown",
      "metadata": {
        "id": "zeSY2jC1SCKi"
      },
      "source": [
        "## Process the dense feature set"
      ]
    },
    {
      "cell_type": "code",
      "execution_count": 10,
      "metadata": {
        "id": "MFodn1H5SCKi"
      },
      "outputs": [],
      "source": [
        "def process_dense_feats(data, feats):\n",
        "    d = data.copy()\n",
        "    d = d[feats].fillna(0.0)\n",
        "    for f in feats:\n",
        "        d[f] = d[f].apply(lambda x: np.log(x+1) if x > -1 else -1)\n",
        "    \n",
        "    return d"
      ]
    },
    {
      "cell_type": "code",
      "execution_count": 11,
      "metadata": {
        "id": "TRMd80AUSCKj"
      },
      "outputs": [],
      "source": [
        "data_dense = process_dense_feats(data, dense_feats)"
      ]
    },
    {
      "cell_type": "code",
      "source": [
        "data_dense.head()"
      ],
      "metadata": {
        "colab": {
          "base_uri": "https://localhost:8080/",
          "height": 270
        },
        "id": "Nvz_CaARjin5",
        "outputId": "cf2457e3-5b3b-48d9-a144-2ea14608b275"
      },
      "execution_count": 12,
      "outputs": [
        {
          "output_type": "execute_result",
          "data": {
            "text/plain": [
              "         I1        I2        I3        I4        I5        I6        I7  \\\n",
              "0  0.693147  0.693147  1.791759  0.000000  7.232010  1.609438  2.772589   \n",
              "1  1.098612  0.000000  3.806662  0.693147  4.634729  2.197225  1.098612   \n",
              "2  1.098612  0.000000  0.693147  2.708050  6.643790  4.499810  1.609438   \n",
              "3  0.000000  6.795706  0.000000  0.000000  8.387768  0.000000  0.000000   \n",
              "4  1.386294 -1.000000  0.000000  0.000000  1.098612  0.000000  1.386294   \n",
              "\n",
              "         I8        I9       I10       I11       I12       I13  \n",
              "0  1.098612  5.204007  0.693147  1.098612  0.000000  1.098612  \n",
              "1  1.098612  1.609438  0.693147  0.693147  0.000000  1.609438  \n",
              "2  1.098612  5.505332  0.693147  1.386294  1.386294  3.828641  \n",
              "3  0.000000  0.000000  0.000000  0.000000  0.000000  0.000000  \n",
              "4  0.000000  0.000000  0.693147  0.693147  0.000000  0.000000  "
            ],
            "text/html": [
              "\n",
              "  <div id=\"df-9e5e1a93-4f82-47cc-8058-e45018ca5ff4\">\n",
              "    <div class=\"colab-df-container\">\n",
              "      <div>\n",
              "<style scoped>\n",
              "    .dataframe tbody tr th:only-of-type {\n",
              "        vertical-align: middle;\n",
              "    }\n",
              "\n",
              "    .dataframe tbody tr th {\n",
              "        vertical-align: top;\n",
              "    }\n",
              "\n",
              "    .dataframe thead th {\n",
              "        text-align: right;\n",
              "    }\n",
              "</style>\n",
              "<table border=\"1\" class=\"dataframe\">\n",
              "  <thead>\n",
              "    <tr style=\"text-align: right;\">\n",
              "      <th></th>\n",
              "      <th>I1</th>\n",
              "      <th>I2</th>\n",
              "      <th>I3</th>\n",
              "      <th>I4</th>\n",
              "      <th>I5</th>\n",
              "      <th>I6</th>\n",
              "      <th>I7</th>\n",
              "      <th>I8</th>\n",
              "      <th>I9</th>\n",
              "      <th>I10</th>\n",
              "      <th>I11</th>\n",
              "      <th>I12</th>\n",
              "      <th>I13</th>\n",
              "    </tr>\n",
              "  </thead>\n",
              "  <tbody>\n",
              "    <tr>\n",
              "      <th>0</th>\n",
              "      <td>0.693147</td>\n",
              "      <td>0.693147</td>\n",
              "      <td>1.791759</td>\n",
              "      <td>0.000000</td>\n",
              "      <td>7.232010</td>\n",
              "      <td>1.609438</td>\n",
              "      <td>2.772589</td>\n",
              "      <td>1.098612</td>\n",
              "      <td>5.204007</td>\n",
              "      <td>0.693147</td>\n",
              "      <td>1.098612</td>\n",
              "      <td>0.000000</td>\n",
              "      <td>1.098612</td>\n",
              "    </tr>\n",
              "    <tr>\n",
              "      <th>1</th>\n",
              "      <td>1.098612</td>\n",
              "      <td>0.000000</td>\n",
              "      <td>3.806662</td>\n",
              "      <td>0.693147</td>\n",
              "      <td>4.634729</td>\n",
              "      <td>2.197225</td>\n",
              "      <td>1.098612</td>\n",
              "      <td>1.098612</td>\n",
              "      <td>1.609438</td>\n",
              "      <td>0.693147</td>\n",
              "      <td>0.693147</td>\n",
              "      <td>0.000000</td>\n",
              "      <td>1.609438</td>\n",
              "    </tr>\n",
              "    <tr>\n",
              "      <th>2</th>\n",
              "      <td>1.098612</td>\n",
              "      <td>0.000000</td>\n",
              "      <td>0.693147</td>\n",
              "      <td>2.708050</td>\n",
              "      <td>6.643790</td>\n",
              "      <td>4.499810</td>\n",
              "      <td>1.609438</td>\n",
              "      <td>1.098612</td>\n",
              "      <td>5.505332</td>\n",
              "      <td>0.693147</td>\n",
              "      <td>1.386294</td>\n",
              "      <td>1.386294</td>\n",
              "      <td>3.828641</td>\n",
              "    </tr>\n",
              "    <tr>\n",
              "      <th>3</th>\n",
              "      <td>0.000000</td>\n",
              "      <td>6.795706</td>\n",
              "      <td>0.000000</td>\n",
              "      <td>0.000000</td>\n",
              "      <td>8.387768</td>\n",
              "      <td>0.000000</td>\n",
              "      <td>0.000000</td>\n",
              "      <td>0.000000</td>\n",
              "      <td>0.000000</td>\n",
              "      <td>0.000000</td>\n",
              "      <td>0.000000</td>\n",
              "      <td>0.000000</td>\n",
              "      <td>0.000000</td>\n",
              "    </tr>\n",
              "    <tr>\n",
              "      <th>4</th>\n",
              "      <td>1.386294</td>\n",
              "      <td>-1.000000</td>\n",
              "      <td>0.000000</td>\n",
              "      <td>0.000000</td>\n",
              "      <td>1.098612</td>\n",
              "      <td>0.000000</td>\n",
              "      <td>1.386294</td>\n",
              "      <td>0.000000</td>\n",
              "      <td>0.000000</td>\n",
              "      <td>0.693147</td>\n",
              "      <td>0.693147</td>\n",
              "      <td>0.000000</td>\n",
              "      <td>0.000000</td>\n",
              "    </tr>\n",
              "  </tbody>\n",
              "</table>\n",
              "</div>\n",
              "      <button class=\"colab-df-convert\" onclick=\"convertToInteractive('df-9e5e1a93-4f82-47cc-8058-e45018ca5ff4')\"\n",
              "              title=\"Convert this dataframe to an interactive table.\"\n",
              "              style=\"display:none;\">\n",
              "        \n",
              "  <svg xmlns=\"http://www.w3.org/2000/svg\" height=\"24px\"viewBox=\"0 0 24 24\"\n",
              "       width=\"24px\">\n",
              "    <path d=\"M0 0h24v24H0V0z\" fill=\"none\"/>\n",
              "    <path d=\"M18.56 5.44l.94 2.06.94-2.06 2.06-.94-2.06-.94-.94-2.06-.94 2.06-2.06.94zm-11 1L8.5 8.5l.94-2.06 2.06-.94-2.06-.94L8.5 2.5l-.94 2.06-2.06.94zm10 10l.94 2.06.94-2.06 2.06-.94-2.06-.94-.94-2.06-.94 2.06-2.06.94z\"/><path d=\"M17.41 7.96l-1.37-1.37c-.4-.4-.92-.59-1.43-.59-.52 0-1.04.2-1.43.59L10.3 9.45l-7.72 7.72c-.78.78-.78 2.05 0 2.83L4 21.41c.39.39.9.59 1.41.59.51 0 1.02-.2 1.41-.59l7.78-7.78 2.81-2.81c.8-.78.8-2.07 0-2.86zM5.41 20L4 18.59l7.72-7.72 1.47 1.35L5.41 20z\"/>\n",
              "  </svg>\n",
              "      </button>\n",
              "      \n",
              "  <style>\n",
              "    .colab-df-container {\n",
              "      display:flex;\n",
              "      flex-wrap:wrap;\n",
              "      gap: 12px;\n",
              "    }\n",
              "\n",
              "    .colab-df-convert {\n",
              "      background-color: #E8F0FE;\n",
              "      border: none;\n",
              "      border-radius: 50%;\n",
              "      cursor: pointer;\n",
              "      display: none;\n",
              "      fill: #1967D2;\n",
              "      height: 32px;\n",
              "      padding: 0 0 0 0;\n",
              "      width: 32px;\n",
              "    }\n",
              "\n",
              "    .colab-df-convert:hover {\n",
              "      background-color: #E2EBFA;\n",
              "      box-shadow: 0px 1px 2px rgba(60, 64, 67, 0.3), 0px 1px 3px 1px rgba(60, 64, 67, 0.15);\n",
              "      fill: #174EA6;\n",
              "    }\n",
              "\n",
              "    [theme=dark] .colab-df-convert {\n",
              "      background-color: #3B4455;\n",
              "      fill: #D2E3FC;\n",
              "    }\n",
              "\n",
              "    [theme=dark] .colab-df-convert:hover {\n",
              "      background-color: #434B5C;\n",
              "      box-shadow: 0px 1px 3px 1px rgba(0, 0, 0, 0.15);\n",
              "      filter: drop-shadow(0px 1px 2px rgba(0, 0, 0, 0.3));\n",
              "      fill: #FFFFFF;\n",
              "    }\n",
              "  </style>\n",
              "\n",
              "      <script>\n",
              "        const buttonEl =\n",
              "          document.querySelector('#df-9e5e1a93-4f82-47cc-8058-e45018ca5ff4 button.colab-df-convert');\n",
              "        buttonEl.style.display =\n",
              "          google.colab.kernel.accessAllowed ? 'block' : 'none';\n",
              "\n",
              "        async function convertToInteractive(key) {\n",
              "          const element = document.querySelector('#df-9e5e1a93-4f82-47cc-8058-e45018ca5ff4');\n",
              "          const dataTable =\n",
              "            await google.colab.kernel.invokeFunction('convertToInteractive',\n",
              "                                                     [key], {});\n",
              "          if (!dataTable) return;\n",
              "\n",
              "          const docLinkHtml = 'Like what you see? Visit the ' +\n",
              "            '<a target=\"_blank\" href=https://colab.research.google.com/notebooks/data_table.ipynb>data table notebook</a>'\n",
              "            + ' to learn more about interactive tables.';\n",
              "          element.innerHTML = '';\n",
              "          dataTable['output_type'] = 'display_data';\n",
              "          await google.colab.output.renderOutput(dataTable, element);\n",
              "          const docLink = document.createElement('div');\n",
              "          docLink.innerHTML = docLinkHtml;\n",
              "          element.appendChild(docLink);\n",
              "        }\n",
              "      </script>\n",
              "    </div>\n",
              "  </div>\n",
              "  "
            ]
          },
          "metadata": {},
          "execution_count": 12
        }
      ]
    },
    {
      "cell_type": "markdown",
      "metadata": {
        "id": "OsdymisESCKj"
      },
      "source": [
        "## Process the sparse feature set"
      ]
    },
    {
      "cell_type": "code",
      "execution_count": 13,
      "metadata": {
        "id": "7SWNmMc9SCKk"
      },
      "outputs": [],
      "source": [
        "from sklearn.preprocessing import LabelEncoder"
      ]
    },
    {
      "cell_type": "code",
      "execution_count": 14,
      "metadata": {
        "id": "DJq2NLYZSCKk"
      },
      "outputs": [],
      "source": [
        "def process_sparse_feats(data, feats):\n",
        "    d = data.copy()\n",
        "    d = d[feats].fillna(\"-1\")\n",
        "    for f in feats:\n",
        "        label_encoder = LabelEncoder()\n",
        "        d[f] = label_encoder.fit_transform(d[f])\n",
        "        \n",
        "    return d"
      ]
    },
    {
      "cell_type": "code",
      "execution_count": 15,
      "metadata": {
        "id": "rwn39mFeSCKk"
      },
      "outputs": [],
      "source": [
        "data_sparse = process_sparse_feats(data, sparse_feats)"
      ]
    },
    {
      "cell_type": "code",
      "source": [
        "data_sparse"
      ],
      "metadata": {
        "colab": {
          "base_uri": "https://localhost:8080/",
          "height": 488
        },
        "id": "KJyUgXePkoJD",
        "outputId": "2d7af6a4-e9e2-40b6-b5a2-bee1a25d3dfb"
      },
      "execution_count": 19,
      "outputs": [
        {
          "output_type": "execute_result",
          "data": {
            "text/plain": [
              "         C1   C2      C3     C4  C5  C6    C7   C8  C9    C10  ...  C17   C18  \\\n",
              "0       470  261  203952  41641  38   6  8961   63   2  16515  ...    9  3439   \n",
              "1       470  498   90258  22218  38  13  5957   19   2   4195  ...    0  2465   \n",
              "2       170   24    2223  65253  38   6  8067   19   2   5767  ...    6   738   \n",
              "3       470   93  137623  15635  38  13  1935   19   2  23623  ...    1  1648   \n",
              "4       612  368  162265  83638  38   2  7067   19   2   8071  ...    1   556   \n",
              "...     ...  ...     ...    ...  ..  ..   ...  ...  ..    ...  ...  ...   ...   \n",
              "599995   23   66  172718  61471  38   0   577  196   2  11967  ...    9   812   \n",
              "599996   23  120  160098  68483  38   6  7567    7   2  12556  ...    8  1194   \n",
              "599997  470   40  170810   7850  95  13  6953   19   2  24655  ...    9  2695   \n",
              "599998  673   83  114264  83007  38  13  5212   19   2  14104  ...    9  1929   \n",
              "599999   23  168  144605  82111  38  11  3483   19   2   5088  ...    9  2633   \n",
              "\n",
              "         C19  C20     C21  C22  C23    C24  C25    C26  \n",
              "0        213    3    4954    0    3  24768   52  14364  \n",
              "1        213    1   60664    0    3   8432   52  10835  \n",
              "2          0    0  143786    9    3   7344    0      0  \n",
              "3          0    0   67107    0    3  18107    0      0  \n",
              "4          0    0   21257    0    2  22439    0      0  \n",
              "...      ...  ...     ...  ...  ...    ...  ...    ...  \n",
              "599995   213    2   60254    0    2  30065    1   6169  \n",
              "599996     0    0   39464    0    5  10799    0      0  \n",
              "599997     0    0   24566    9    3  22603    0      0  \n",
              "599998    27    3  125582    0    3   7906    1   6920  \n",
              "599999  1537    3   83612    0    2   9099    1   5650  \n",
              "\n",
              "[600000 rows x 26 columns]"
            ],
            "text/html": [
              "\n",
              "  <div id=\"df-3ddb8860-3330-4102-acd3-a4ce6a664657\">\n",
              "    <div class=\"colab-df-container\">\n",
              "      <div>\n",
              "<style scoped>\n",
              "    .dataframe tbody tr th:only-of-type {\n",
              "        vertical-align: middle;\n",
              "    }\n",
              "\n",
              "    .dataframe tbody tr th {\n",
              "        vertical-align: top;\n",
              "    }\n",
              "\n",
              "    .dataframe thead th {\n",
              "        text-align: right;\n",
              "    }\n",
              "</style>\n",
              "<table border=\"1\" class=\"dataframe\">\n",
              "  <thead>\n",
              "    <tr style=\"text-align: right;\">\n",
              "      <th></th>\n",
              "      <th>C1</th>\n",
              "      <th>C2</th>\n",
              "      <th>C3</th>\n",
              "      <th>C4</th>\n",
              "      <th>C5</th>\n",
              "      <th>C6</th>\n",
              "      <th>C7</th>\n",
              "      <th>C8</th>\n",
              "      <th>C9</th>\n",
              "      <th>C10</th>\n",
              "      <th>...</th>\n",
              "      <th>C17</th>\n",
              "      <th>C18</th>\n",
              "      <th>C19</th>\n",
              "      <th>C20</th>\n",
              "      <th>C21</th>\n",
              "      <th>C22</th>\n",
              "      <th>C23</th>\n",
              "      <th>C24</th>\n",
              "      <th>C25</th>\n",
              "      <th>C26</th>\n",
              "    </tr>\n",
              "  </thead>\n",
              "  <tbody>\n",
              "    <tr>\n",
              "      <th>0</th>\n",
              "      <td>470</td>\n",
              "      <td>261</td>\n",
              "      <td>203952</td>\n",
              "      <td>41641</td>\n",
              "      <td>38</td>\n",
              "      <td>6</td>\n",
              "      <td>8961</td>\n",
              "      <td>63</td>\n",
              "      <td>2</td>\n",
              "      <td>16515</td>\n",
              "      <td>...</td>\n",
              "      <td>9</td>\n",
              "      <td>3439</td>\n",
              "      <td>213</td>\n",
              "      <td>3</td>\n",
              "      <td>4954</td>\n",
              "      <td>0</td>\n",
              "      <td>3</td>\n",
              "      <td>24768</td>\n",
              "      <td>52</td>\n",
              "      <td>14364</td>\n",
              "    </tr>\n",
              "    <tr>\n",
              "      <th>1</th>\n",
              "      <td>470</td>\n",
              "      <td>498</td>\n",
              "      <td>90258</td>\n",
              "      <td>22218</td>\n",
              "      <td>38</td>\n",
              "      <td>13</td>\n",
              "      <td>5957</td>\n",
              "      <td>19</td>\n",
              "      <td>2</td>\n",
              "      <td>4195</td>\n",
              "      <td>...</td>\n",
              "      <td>0</td>\n",
              "      <td>2465</td>\n",
              "      <td>213</td>\n",
              "      <td>1</td>\n",
              "      <td>60664</td>\n",
              "      <td>0</td>\n",
              "      <td>3</td>\n",
              "      <td>8432</td>\n",
              "      <td>52</td>\n",
              "      <td>10835</td>\n",
              "    </tr>\n",
              "    <tr>\n",
              "      <th>2</th>\n",
              "      <td>170</td>\n",
              "      <td>24</td>\n",
              "      <td>2223</td>\n",
              "      <td>65253</td>\n",
              "      <td>38</td>\n",
              "      <td>6</td>\n",
              "      <td>8067</td>\n",
              "      <td>19</td>\n",
              "      <td>2</td>\n",
              "      <td>5767</td>\n",
              "      <td>...</td>\n",
              "      <td>6</td>\n",
              "      <td>738</td>\n",
              "      <td>0</td>\n",
              "      <td>0</td>\n",
              "      <td>143786</td>\n",
              "      <td>9</td>\n",
              "      <td>3</td>\n",
              "      <td>7344</td>\n",
              "      <td>0</td>\n",
              "      <td>0</td>\n",
              "    </tr>\n",
              "    <tr>\n",
              "      <th>3</th>\n",
              "      <td>470</td>\n",
              "      <td>93</td>\n",
              "      <td>137623</td>\n",
              "      <td>15635</td>\n",
              "      <td>38</td>\n",
              "      <td>13</td>\n",
              "      <td>1935</td>\n",
              "      <td>19</td>\n",
              "      <td>2</td>\n",
              "      <td>23623</td>\n",
              "      <td>...</td>\n",
              "      <td>1</td>\n",
              "      <td>1648</td>\n",
              "      <td>0</td>\n",
              "      <td>0</td>\n",
              "      <td>67107</td>\n",
              "      <td>0</td>\n",
              "      <td>3</td>\n",
              "      <td>18107</td>\n",
              "      <td>0</td>\n",
              "      <td>0</td>\n",
              "    </tr>\n",
              "    <tr>\n",
              "      <th>4</th>\n",
              "      <td>612</td>\n",
              "      <td>368</td>\n",
              "      <td>162265</td>\n",
              "      <td>83638</td>\n",
              "      <td>38</td>\n",
              "      <td>2</td>\n",
              "      <td>7067</td>\n",
              "      <td>19</td>\n",
              "      <td>2</td>\n",
              "      <td>8071</td>\n",
              "      <td>...</td>\n",
              "      <td>1</td>\n",
              "      <td>556</td>\n",
              "      <td>0</td>\n",
              "      <td>0</td>\n",
              "      <td>21257</td>\n",
              "      <td>0</td>\n",
              "      <td>2</td>\n",
              "      <td>22439</td>\n",
              "      <td>0</td>\n",
              "      <td>0</td>\n",
              "    </tr>\n",
              "    <tr>\n",
              "      <th>...</th>\n",
              "      <td>...</td>\n",
              "      <td>...</td>\n",
              "      <td>...</td>\n",
              "      <td>...</td>\n",
              "      <td>...</td>\n",
              "      <td>...</td>\n",
              "      <td>...</td>\n",
              "      <td>...</td>\n",
              "      <td>...</td>\n",
              "      <td>...</td>\n",
              "      <td>...</td>\n",
              "      <td>...</td>\n",
              "      <td>...</td>\n",
              "      <td>...</td>\n",
              "      <td>...</td>\n",
              "      <td>...</td>\n",
              "      <td>...</td>\n",
              "      <td>...</td>\n",
              "      <td>...</td>\n",
              "      <td>...</td>\n",
              "      <td>...</td>\n",
              "    </tr>\n",
              "    <tr>\n",
              "      <th>599995</th>\n",
              "      <td>23</td>\n",
              "      <td>66</td>\n",
              "      <td>172718</td>\n",
              "      <td>61471</td>\n",
              "      <td>38</td>\n",
              "      <td>0</td>\n",
              "      <td>577</td>\n",
              "      <td>196</td>\n",
              "      <td>2</td>\n",
              "      <td>11967</td>\n",
              "      <td>...</td>\n",
              "      <td>9</td>\n",
              "      <td>812</td>\n",
              "      <td>213</td>\n",
              "      <td>2</td>\n",
              "      <td>60254</td>\n",
              "      <td>0</td>\n",
              "      <td>2</td>\n",
              "      <td>30065</td>\n",
              "      <td>1</td>\n",
              "      <td>6169</td>\n",
              "    </tr>\n",
              "    <tr>\n",
              "      <th>599996</th>\n",
              "      <td>23</td>\n",
              "      <td>120</td>\n",
              "      <td>160098</td>\n",
              "      <td>68483</td>\n",
              "      <td>38</td>\n",
              "      <td>6</td>\n",
              "      <td>7567</td>\n",
              "      <td>7</td>\n",
              "      <td>2</td>\n",
              "      <td>12556</td>\n",
              "      <td>...</td>\n",
              "      <td>8</td>\n",
              "      <td>1194</td>\n",
              "      <td>0</td>\n",
              "      <td>0</td>\n",
              "      <td>39464</td>\n",
              "      <td>0</td>\n",
              "      <td>5</td>\n",
              "      <td>10799</td>\n",
              "      <td>0</td>\n",
              "      <td>0</td>\n",
              "    </tr>\n",
              "    <tr>\n",
              "      <th>599997</th>\n",
              "      <td>470</td>\n",
              "      <td>40</td>\n",
              "      <td>170810</td>\n",
              "      <td>7850</td>\n",
              "      <td>95</td>\n",
              "      <td>13</td>\n",
              "      <td>6953</td>\n",
              "      <td>19</td>\n",
              "      <td>2</td>\n",
              "      <td>24655</td>\n",
              "      <td>...</td>\n",
              "      <td>9</td>\n",
              "      <td>2695</td>\n",
              "      <td>0</td>\n",
              "      <td>0</td>\n",
              "      <td>24566</td>\n",
              "      <td>9</td>\n",
              "      <td>3</td>\n",
              "      <td>22603</td>\n",
              "      <td>0</td>\n",
              "      <td>0</td>\n",
              "    </tr>\n",
              "    <tr>\n",
              "      <th>599998</th>\n",
              "      <td>673</td>\n",
              "      <td>83</td>\n",
              "      <td>114264</td>\n",
              "      <td>83007</td>\n",
              "      <td>38</td>\n",
              "      <td>13</td>\n",
              "      <td>5212</td>\n",
              "      <td>19</td>\n",
              "      <td>2</td>\n",
              "      <td>14104</td>\n",
              "      <td>...</td>\n",
              "      <td>9</td>\n",
              "      <td>1929</td>\n",
              "      <td>27</td>\n",
              "      <td>3</td>\n",
              "      <td>125582</td>\n",
              "      <td>0</td>\n",
              "      <td>3</td>\n",
              "      <td>7906</td>\n",
              "      <td>1</td>\n",
              "      <td>6920</td>\n",
              "    </tr>\n",
              "    <tr>\n",
              "      <th>599999</th>\n",
              "      <td>23</td>\n",
              "      <td>168</td>\n",
              "      <td>144605</td>\n",
              "      <td>82111</td>\n",
              "      <td>38</td>\n",
              "      <td>11</td>\n",
              "      <td>3483</td>\n",
              "      <td>19</td>\n",
              "      <td>2</td>\n",
              "      <td>5088</td>\n",
              "      <td>...</td>\n",
              "      <td>9</td>\n",
              "      <td>2633</td>\n",
              "      <td>1537</td>\n",
              "      <td>3</td>\n",
              "      <td>83612</td>\n",
              "      <td>0</td>\n",
              "      <td>2</td>\n",
              "      <td>9099</td>\n",
              "      <td>1</td>\n",
              "      <td>5650</td>\n",
              "    </tr>\n",
              "  </tbody>\n",
              "</table>\n",
              "<p>600000 rows × 26 columns</p>\n",
              "</div>\n",
              "      <button class=\"colab-df-convert\" onclick=\"convertToInteractive('df-3ddb8860-3330-4102-acd3-a4ce6a664657')\"\n",
              "              title=\"Convert this dataframe to an interactive table.\"\n",
              "              style=\"display:none;\">\n",
              "        \n",
              "  <svg xmlns=\"http://www.w3.org/2000/svg\" height=\"24px\"viewBox=\"0 0 24 24\"\n",
              "       width=\"24px\">\n",
              "    <path d=\"M0 0h24v24H0V0z\" fill=\"none\"/>\n",
              "    <path d=\"M18.56 5.44l.94 2.06.94-2.06 2.06-.94-2.06-.94-.94-2.06-.94 2.06-2.06.94zm-11 1L8.5 8.5l.94-2.06 2.06-.94-2.06-.94L8.5 2.5l-.94 2.06-2.06.94zm10 10l.94 2.06.94-2.06 2.06-.94-2.06-.94-.94-2.06-.94 2.06-2.06.94z\"/><path d=\"M17.41 7.96l-1.37-1.37c-.4-.4-.92-.59-1.43-.59-.52 0-1.04.2-1.43.59L10.3 9.45l-7.72 7.72c-.78.78-.78 2.05 0 2.83L4 21.41c.39.39.9.59 1.41.59.51 0 1.02-.2 1.41-.59l7.78-7.78 2.81-2.81c.8-.78.8-2.07 0-2.86zM5.41 20L4 18.59l7.72-7.72 1.47 1.35L5.41 20z\"/>\n",
              "  </svg>\n",
              "      </button>\n",
              "      \n",
              "  <style>\n",
              "    .colab-df-container {\n",
              "      display:flex;\n",
              "      flex-wrap:wrap;\n",
              "      gap: 12px;\n",
              "    }\n",
              "\n",
              "    .colab-df-convert {\n",
              "      background-color: #E8F0FE;\n",
              "      border: none;\n",
              "      border-radius: 50%;\n",
              "      cursor: pointer;\n",
              "      display: none;\n",
              "      fill: #1967D2;\n",
              "      height: 32px;\n",
              "      padding: 0 0 0 0;\n",
              "      width: 32px;\n",
              "    }\n",
              "\n",
              "    .colab-df-convert:hover {\n",
              "      background-color: #E2EBFA;\n",
              "      box-shadow: 0px 1px 2px rgba(60, 64, 67, 0.3), 0px 1px 3px 1px rgba(60, 64, 67, 0.15);\n",
              "      fill: #174EA6;\n",
              "    }\n",
              "\n",
              "    [theme=dark] .colab-df-convert {\n",
              "      background-color: #3B4455;\n",
              "      fill: #D2E3FC;\n",
              "    }\n",
              "\n",
              "    [theme=dark] .colab-df-convert:hover {\n",
              "      background-color: #434B5C;\n",
              "      box-shadow: 0px 1px 3px 1px rgba(0, 0, 0, 0.15);\n",
              "      filter: drop-shadow(0px 1px 2px rgba(0, 0, 0, 0.3));\n",
              "      fill: #FFFFFF;\n",
              "    }\n",
              "  </style>\n",
              "\n",
              "      <script>\n",
              "        const buttonEl =\n",
              "          document.querySelector('#df-3ddb8860-3330-4102-acd3-a4ce6a664657 button.colab-df-convert');\n",
              "        buttonEl.style.display =\n",
              "          google.colab.kernel.accessAllowed ? 'block' : 'none';\n",
              "\n",
              "        async function convertToInteractive(key) {\n",
              "          const element = document.querySelector('#df-3ddb8860-3330-4102-acd3-a4ce6a664657');\n",
              "          const dataTable =\n",
              "            await google.colab.kernel.invokeFunction('convertToInteractive',\n",
              "                                                     [key], {});\n",
              "          if (!dataTable) return;\n",
              "\n",
              "          const docLinkHtml = 'Like what you see? Visit the ' +\n",
              "            '<a target=\"_blank\" href=https://colab.research.google.com/notebooks/data_table.ipynb>data table notebook</a>'\n",
              "            + ' to learn more about interactive tables.';\n",
              "          element.innerHTML = '';\n",
              "          dataTable['output_type'] = 'display_data';\n",
              "          await google.colab.output.renderOutput(dataTable, element);\n",
              "          const docLink = document.createElement('div');\n",
              "          docLink.innerHTML = docLinkHtml;\n",
              "          element.appendChild(docLink);\n",
              "        }\n",
              "      </script>\n",
              "    </div>\n",
              "  </div>\n",
              "  "
            ]
          },
          "metadata": {},
          "execution_count": 19
        }
      ]
    },
    {
      "cell_type": "code",
      "execution_count": 16,
      "metadata": {
        "id": "FMilDTHaSCKk"
      },
      "outputs": [],
      "source": [
        "total_data = pd.concat([data_dense, data_sparse], axis=1)"
      ]
    },
    {
      "cell_type": "code",
      "source": [
        "total_data"
      ],
      "metadata": {
        "colab": {
          "base_uri": "https://localhost:8080/",
          "height": 488
        },
        "id": "Cr9LhIIVk1xO",
        "outputId": "2fe57d08-4c4f-4e98-bbb7-c49e7575ed62"
      },
      "execution_count": 19,
      "outputs": [
        {
          "output_type": "execute_result",
          "data": {
            "text/plain": [
              "              I1        I2        I3        I4        I5        I6        I7  \\\n",
              "0       0.693147  0.693147  1.791759  0.000000  7.232010  1.609438  2.772589   \n",
              "1       1.098612  0.000000  3.806662  0.693147  4.634729  2.197225  1.098612   \n",
              "2       1.098612  0.000000  0.693147  2.708050  6.643790  4.499810  1.609438   \n",
              "3       0.000000  6.795706  0.000000  0.000000  8.387768  0.000000  0.000000   \n",
              "4       1.386294 -1.000000  0.000000  0.000000  1.098612  0.000000  1.386294   \n",
              "...          ...       ...       ...       ...       ...       ...       ...   \n",
              "599995  0.000000  0.000000  4.465908  1.791759  7.864420  4.605170  1.386294   \n",
              "599996  0.693147  0.693147  1.098612  1.098612  7.071573  2.833213  0.693147   \n",
              "599997  0.000000  1.791759  0.693147  1.098612  8.349484  4.779123  1.945910   \n",
              "599998  0.000000  1.791759  4.290459  2.197225  7.864804  3.713572  0.693147   \n",
              "599999  0.000000  0.000000  3.891820  2.564949  7.590347  5.476464  1.791759   \n",
              "\n",
              "              I8        I9       I10  ...   C18   C19  C20     C21  C22  C23  \\\n",
              "0       1.098612  5.204007  0.693147  ...  3439   213    3    4954    0    3   \n",
              "1       1.098612  1.609438  0.693147  ...  2465   213    1   60664    0    3   \n",
              "2       1.098612  5.505332  0.693147  ...   738     0    0  143786    9    3   \n",
              "3       0.000000  0.000000  0.000000  ...  1648     0    0   67107    0    3   \n",
              "4       0.000000  0.000000  0.693147  ...   556     0    0   21257    0    2   \n",
              "...          ...       ...       ...  ...   ...   ...  ...     ...  ...  ...   \n",
              "599995  3.135494  3.135494  0.000000  ...   812   213    2   60254    0    2   \n",
              "599996  2.833213  2.833213  0.693147  ...  1194     0    0   39464    0    5   \n",
              "599997  2.397895  3.713572  0.000000  ...  2695     0    0   24566    9    3   \n",
              "599998  2.708050  2.708050  0.000000  ...  1929    27    3  125582    0    3   \n",
              "599999  3.367296  4.644391  0.000000  ...  2633  1537    3   83612    0    2   \n",
              "\n",
              "          C24  C25    C26  label  \n",
              "0       24768   52  14364      0  \n",
              "1        8432   52  10835      0  \n",
              "2        7344    0      0      0  \n",
              "3       18107    0      0      0  \n",
              "4       22439    0      0      0  \n",
              "...       ...  ...    ...    ...  \n",
              "599995  30065    1   6169      1  \n",
              "599996  10799    0      0      0  \n",
              "599997  22603    0      0      0  \n",
              "599998   7906    1   6920      0  \n",
              "599999   9099    1   5650      0  \n",
              "\n",
              "[600000 rows x 40 columns]"
            ],
            "text/html": [
              "\n",
              "  <div id=\"df-11c7f62c-1ecb-4786-a56b-78ba02591eed\">\n",
              "    <div class=\"colab-df-container\">\n",
              "      <div>\n",
              "<style scoped>\n",
              "    .dataframe tbody tr th:only-of-type {\n",
              "        vertical-align: middle;\n",
              "    }\n",
              "\n",
              "    .dataframe tbody tr th {\n",
              "        vertical-align: top;\n",
              "    }\n",
              "\n",
              "    .dataframe thead th {\n",
              "        text-align: right;\n",
              "    }\n",
              "</style>\n",
              "<table border=\"1\" class=\"dataframe\">\n",
              "  <thead>\n",
              "    <tr style=\"text-align: right;\">\n",
              "      <th></th>\n",
              "      <th>I1</th>\n",
              "      <th>I2</th>\n",
              "      <th>I3</th>\n",
              "      <th>I4</th>\n",
              "      <th>I5</th>\n",
              "      <th>I6</th>\n",
              "      <th>I7</th>\n",
              "      <th>I8</th>\n",
              "      <th>I9</th>\n",
              "      <th>I10</th>\n",
              "      <th>...</th>\n",
              "      <th>C18</th>\n",
              "      <th>C19</th>\n",
              "      <th>C20</th>\n",
              "      <th>C21</th>\n",
              "      <th>C22</th>\n",
              "      <th>C23</th>\n",
              "      <th>C24</th>\n",
              "      <th>C25</th>\n",
              "      <th>C26</th>\n",
              "      <th>label</th>\n",
              "    </tr>\n",
              "  </thead>\n",
              "  <tbody>\n",
              "    <tr>\n",
              "      <th>0</th>\n",
              "      <td>0.693147</td>\n",
              "      <td>0.693147</td>\n",
              "      <td>1.791759</td>\n",
              "      <td>0.000000</td>\n",
              "      <td>7.232010</td>\n",
              "      <td>1.609438</td>\n",
              "      <td>2.772589</td>\n",
              "      <td>1.098612</td>\n",
              "      <td>5.204007</td>\n",
              "      <td>0.693147</td>\n",
              "      <td>...</td>\n",
              "      <td>3439</td>\n",
              "      <td>213</td>\n",
              "      <td>3</td>\n",
              "      <td>4954</td>\n",
              "      <td>0</td>\n",
              "      <td>3</td>\n",
              "      <td>24768</td>\n",
              "      <td>52</td>\n",
              "      <td>14364</td>\n",
              "      <td>0</td>\n",
              "    </tr>\n",
              "    <tr>\n",
              "      <th>1</th>\n",
              "      <td>1.098612</td>\n",
              "      <td>0.000000</td>\n",
              "      <td>3.806662</td>\n",
              "      <td>0.693147</td>\n",
              "      <td>4.634729</td>\n",
              "      <td>2.197225</td>\n",
              "      <td>1.098612</td>\n",
              "      <td>1.098612</td>\n",
              "      <td>1.609438</td>\n",
              "      <td>0.693147</td>\n",
              "      <td>...</td>\n",
              "      <td>2465</td>\n",
              "      <td>213</td>\n",
              "      <td>1</td>\n",
              "      <td>60664</td>\n",
              "      <td>0</td>\n",
              "      <td>3</td>\n",
              "      <td>8432</td>\n",
              "      <td>52</td>\n",
              "      <td>10835</td>\n",
              "      <td>0</td>\n",
              "    </tr>\n",
              "    <tr>\n",
              "      <th>2</th>\n",
              "      <td>1.098612</td>\n",
              "      <td>0.000000</td>\n",
              "      <td>0.693147</td>\n",
              "      <td>2.708050</td>\n",
              "      <td>6.643790</td>\n",
              "      <td>4.499810</td>\n",
              "      <td>1.609438</td>\n",
              "      <td>1.098612</td>\n",
              "      <td>5.505332</td>\n",
              "      <td>0.693147</td>\n",
              "      <td>...</td>\n",
              "      <td>738</td>\n",
              "      <td>0</td>\n",
              "      <td>0</td>\n",
              "      <td>143786</td>\n",
              "      <td>9</td>\n",
              "      <td>3</td>\n",
              "      <td>7344</td>\n",
              "      <td>0</td>\n",
              "      <td>0</td>\n",
              "      <td>0</td>\n",
              "    </tr>\n",
              "    <tr>\n",
              "      <th>3</th>\n",
              "      <td>0.000000</td>\n",
              "      <td>6.795706</td>\n",
              "      <td>0.000000</td>\n",
              "      <td>0.000000</td>\n",
              "      <td>8.387768</td>\n",
              "      <td>0.000000</td>\n",
              "      <td>0.000000</td>\n",
              "      <td>0.000000</td>\n",
              "      <td>0.000000</td>\n",
              "      <td>0.000000</td>\n",
              "      <td>...</td>\n",
              "      <td>1648</td>\n",
              "      <td>0</td>\n",
              "      <td>0</td>\n",
              "      <td>67107</td>\n",
              "      <td>0</td>\n",
              "      <td>3</td>\n",
              "      <td>18107</td>\n",
              "      <td>0</td>\n",
              "      <td>0</td>\n",
              "      <td>0</td>\n",
              "    </tr>\n",
              "    <tr>\n",
              "      <th>4</th>\n",
              "      <td>1.386294</td>\n",
              "      <td>-1.000000</td>\n",
              "      <td>0.000000</td>\n",
              "      <td>0.000000</td>\n",
              "      <td>1.098612</td>\n",
              "      <td>0.000000</td>\n",
              "      <td>1.386294</td>\n",
              "      <td>0.000000</td>\n",
              "      <td>0.000000</td>\n",
              "      <td>0.693147</td>\n",
              "      <td>...</td>\n",
              "      <td>556</td>\n",
              "      <td>0</td>\n",
              "      <td>0</td>\n",
              "      <td>21257</td>\n",
              "      <td>0</td>\n",
              "      <td>2</td>\n",
              "      <td>22439</td>\n",
              "      <td>0</td>\n",
              "      <td>0</td>\n",
              "      <td>0</td>\n",
              "    </tr>\n",
              "    <tr>\n",
              "      <th>...</th>\n",
              "      <td>...</td>\n",
              "      <td>...</td>\n",
              "      <td>...</td>\n",
              "      <td>...</td>\n",
              "      <td>...</td>\n",
              "      <td>...</td>\n",
              "      <td>...</td>\n",
              "      <td>...</td>\n",
              "      <td>...</td>\n",
              "      <td>...</td>\n",
              "      <td>...</td>\n",
              "      <td>...</td>\n",
              "      <td>...</td>\n",
              "      <td>...</td>\n",
              "      <td>...</td>\n",
              "      <td>...</td>\n",
              "      <td>...</td>\n",
              "      <td>...</td>\n",
              "      <td>...</td>\n",
              "      <td>...</td>\n",
              "      <td>...</td>\n",
              "    </tr>\n",
              "    <tr>\n",
              "      <th>599995</th>\n",
              "      <td>0.000000</td>\n",
              "      <td>0.000000</td>\n",
              "      <td>4.465908</td>\n",
              "      <td>1.791759</td>\n",
              "      <td>7.864420</td>\n",
              "      <td>4.605170</td>\n",
              "      <td>1.386294</td>\n",
              "      <td>3.135494</td>\n",
              "      <td>3.135494</td>\n",
              "      <td>0.000000</td>\n",
              "      <td>...</td>\n",
              "      <td>812</td>\n",
              "      <td>213</td>\n",
              "      <td>2</td>\n",
              "      <td>60254</td>\n",
              "      <td>0</td>\n",
              "      <td>2</td>\n",
              "      <td>30065</td>\n",
              "      <td>1</td>\n",
              "      <td>6169</td>\n",
              "      <td>1</td>\n",
              "    </tr>\n",
              "    <tr>\n",
              "      <th>599996</th>\n",
              "      <td>0.693147</td>\n",
              "      <td>0.693147</td>\n",
              "      <td>1.098612</td>\n",
              "      <td>1.098612</td>\n",
              "      <td>7.071573</td>\n",
              "      <td>2.833213</td>\n",
              "      <td>0.693147</td>\n",
              "      <td>2.833213</td>\n",
              "      <td>2.833213</td>\n",
              "      <td>0.693147</td>\n",
              "      <td>...</td>\n",
              "      <td>1194</td>\n",
              "      <td>0</td>\n",
              "      <td>0</td>\n",
              "      <td>39464</td>\n",
              "      <td>0</td>\n",
              "      <td>5</td>\n",
              "      <td>10799</td>\n",
              "      <td>0</td>\n",
              "      <td>0</td>\n",
              "      <td>0</td>\n",
              "    </tr>\n",
              "    <tr>\n",
              "      <th>599997</th>\n",
              "      <td>0.000000</td>\n",
              "      <td>1.791759</td>\n",
              "      <td>0.693147</td>\n",
              "      <td>1.098612</td>\n",
              "      <td>8.349484</td>\n",
              "      <td>4.779123</td>\n",
              "      <td>1.945910</td>\n",
              "      <td>2.397895</td>\n",
              "      <td>3.713572</td>\n",
              "      <td>0.000000</td>\n",
              "      <td>...</td>\n",
              "      <td>2695</td>\n",
              "      <td>0</td>\n",
              "      <td>0</td>\n",
              "      <td>24566</td>\n",
              "      <td>9</td>\n",
              "      <td>3</td>\n",
              "      <td>22603</td>\n",
              "      <td>0</td>\n",
              "      <td>0</td>\n",
              "      <td>0</td>\n",
              "    </tr>\n",
              "    <tr>\n",
              "      <th>599998</th>\n",
              "      <td>0.000000</td>\n",
              "      <td>1.791759</td>\n",
              "      <td>4.290459</td>\n",
              "      <td>2.197225</td>\n",
              "      <td>7.864804</td>\n",
              "      <td>3.713572</td>\n",
              "      <td>0.693147</td>\n",
              "      <td>2.708050</td>\n",
              "      <td>2.708050</td>\n",
              "      <td>0.000000</td>\n",
              "      <td>...</td>\n",
              "      <td>1929</td>\n",
              "      <td>27</td>\n",
              "      <td>3</td>\n",
              "      <td>125582</td>\n",
              "      <td>0</td>\n",
              "      <td>3</td>\n",
              "      <td>7906</td>\n",
              "      <td>1</td>\n",
              "      <td>6920</td>\n",
              "      <td>0</td>\n",
              "    </tr>\n",
              "    <tr>\n",
              "      <th>599999</th>\n",
              "      <td>0.000000</td>\n",
              "      <td>0.000000</td>\n",
              "      <td>3.891820</td>\n",
              "      <td>2.564949</td>\n",
              "      <td>7.590347</td>\n",
              "      <td>5.476464</td>\n",
              "      <td>1.791759</td>\n",
              "      <td>3.367296</td>\n",
              "      <td>4.644391</td>\n",
              "      <td>0.000000</td>\n",
              "      <td>...</td>\n",
              "      <td>2633</td>\n",
              "      <td>1537</td>\n",
              "      <td>3</td>\n",
              "      <td>83612</td>\n",
              "      <td>0</td>\n",
              "      <td>2</td>\n",
              "      <td>9099</td>\n",
              "      <td>1</td>\n",
              "      <td>5650</td>\n",
              "      <td>0</td>\n",
              "    </tr>\n",
              "  </tbody>\n",
              "</table>\n",
              "<p>600000 rows × 40 columns</p>\n",
              "</div>\n",
              "      <button class=\"colab-df-convert\" onclick=\"convertToInteractive('df-11c7f62c-1ecb-4786-a56b-78ba02591eed')\"\n",
              "              title=\"Convert this dataframe to an interactive table.\"\n",
              "              style=\"display:none;\">\n",
              "        \n",
              "  <svg xmlns=\"http://www.w3.org/2000/svg\" height=\"24px\"viewBox=\"0 0 24 24\"\n",
              "       width=\"24px\">\n",
              "    <path d=\"M0 0h24v24H0V0z\" fill=\"none\"/>\n",
              "    <path d=\"M18.56 5.44l.94 2.06.94-2.06 2.06-.94-2.06-.94-.94-2.06-.94 2.06-2.06.94zm-11 1L8.5 8.5l.94-2.06 2.06-.94-2.06-.94L8.5 2.5l-.94 2.06-2.06.94zm10 10l.94 2.06.94-2.06 2.06-.94-2.06-.94-.94-2.06-.94 2.06-2.06.94z\"/><path d=\"M17.41 7.96l-1.37-1.37c-.4-.4-.92-.59-1.43-.59-.52 0-1.04.2-1.43.59L10.3 9.45l-7.72 7.72c-.78.78-.78 2.05 0 2.83L4 21.41c.39.39.9.59 1.41.59.51 0 1.02-.2 1.41-.59l7.78-7.78 2.81-2.81c.8-.78.8-2.07 0-2.86zM5.41 20L4 18.59l7.72-7.72 1.47 1.35L5.41 20z\"/>\n",
              "  </svg>\n",
              "      </button>\n",
              "      \n",
              "  <style>\n",
              "    .colab-df-container {\n",
              "      display:flex;\n",
              "      flex-wrap:wrap;\n",
              "      gap: 12px;\n",
              "    }\n",
              "\n",
              "    .colab-df-convert {\n",
              "      background-color: #E8F0FE;\n",
              "      border: none;\n",
              "      border-radius: 50%;\n",
              "      cursor: pointer;\n",
              "      display: none;\n",
              "      fill: #1967D2;\n",
              "      height: 32px;\n",
              "      padding: 0 0 0 0;\n",
              "      width: 32px;\n",
              "    }\n",
              "\n",
              "    .colab-df-convert:hover {\n",
              "      background-color: #E2EBFA;\n",
              "      box-shadow: 0px 1px 2px rgba(60, 64, 67, 0.3), 0px 1px 3px 1px rgba(60, 64, 67, 0.15);\n",
              "      fill: #174EA6;\n",
              "    }\n",
              "\n",
              "    [theme=dark] .colab-df-convert {\n",
              "      background-color: #3B4455;\n",
              "      fill: #D2E3FC;\n",
              "    }\n",
              "\n",
              "    [theme=dark] .colab-df-convert:hover {\n",
              "      background-color: #434B5C;\n",
              "      box-shadow: 0px 1px 3px 1px rgba(0, 0, 0, 0.15);\n",
              "      filter: drop-shadow(0px 1px 2px rgba(0, 0, 0, 0.3));\n",
              "      fill: #FFFFFF;\n",
              "    }\n",
              "  </style>\n",
              "\n",
              "      <script>\n",
              "        const buttonEl =\n",
              "          document.querySelector('#df-11c7f62c-1ecb-4786-a56b-78ba02591eed button.colab-df-convert');\n",
              "        buttonEl.style.display =\n",
              "          google.colab.kernel.accessAllowed ? 'block' : 'none';\n",
              "\n",
              "        async function convertToInteractive(key) {\n",
              "          const element = document.querySelector('#df-11c7f62c-1ecb-4786-a56b-78ba02591eed');\n",
              "          const dataTable =\n",
              "            await google.colab.kernel.invokeFunction('convertToInteractive',\n",
              "                                                     [key], {});\n",
              "          if (!dataTable) return;\n",
              "\n",
              "          const docLinkHtml = 'Like what you see? Visit the ' +\n",
              "            '<a target=\"_blank\" href=https://colab.research.google.com/notebooks/data_table.ipynb>data table notebook</a>'\n",
              "            + ' to learn more about interactive tables.';\n",
              "          element.innerHTML = '';\n",
              "          dataTable['output_type'] = 'display_data';\n",
              "          await google.colab.output.renderOutput(dataTable, element);\n",
              "          const docLink = document.createElement('div');\n",
              "          docLink.innerHTML = docLinkHtml;\n",
              "          element.appendChild(docLink);\n",
              "        }\n",
              "      </script>\n",
              "    </div>\n",
              "  </div>\n",
              "  "
            ]
          },
          "metadata": {},
          "execution_count": 19
        }
      ]
    },
    {
      "cell_type": "code",
      "execution_count": 18,
      "metadata": {
        "id": "rwIXnOzjSCKl"
      },
      "outputs": [],
      "source": [
        "total_data['label'] = data['label']"
      ]
    },
    {
      "cell_type": "markdown",
      "metadata": {
        "id": "Y-2bnEJPSCKl"
      },
      "source": [
        "# xDeepFM"
      ]
    },
    {
      "cell_type": "markdown",
      "metadata": {
        "id": "Pq49RluqSCKl"
      },
      "source": [
        "## Linear model "
      ]
    },
    {
      "cell_type": "markdown",
      "metadata": {
        "id": "qeHlyPdOSCKl"
      },
      "source": [
        "### Dense feature"
      ]
    },
    {
      "cell_type": "code",
      "execution_count": 20,
      "metadata": {
        "id": "V-kFL6MTSCKl"
      },
      "outputs": [],
      "source": [
        "import tensorflow as tf"
      ]
    },
    {
      "cell_type": "code",
      "execution_count": 22,
      "metadata": {
        "id": "Bh6yYIxLSCKm"
      },
      "outputs": [],
      "source": [
        "dense_inputs = []\n",
        "for f in dense_feats:\n",
        "    _input = Input([1], name=f)\n",
        "    \n",
        "    dense_inputs.append(_input)"
      ]
    },
    {
      "cell_type": "code",
      "execution_count": 27,
      "metadata": {
        "colab": {
          "base_uri": "https://localhost:8080/"
        },
        "id": "swcpOkovSCKm",
        "outputId": "ca356f69-761e-4c55-994f-a24c601f3885"
      },
      "outputs": [
        {
          "output_type": "execute_result",
          "data": {
            "text/plain": [
              "[<KerasTensor: shape=(None, 1) dtype=float32 (created by layer 'I1')>,\n",
              " <KerasTensor: shape=(None, 1) dtype=float32 (created by layer 'I2')>,\n",
              " <KerasTensor: shape=(None, 1) dtype=float32 (created by layer 'I3')>,\n",
              " <KerasTensor: shape=(None, 1) dtype=float32 (created by layer 'I4')>,\n",
              " <KerasTensor: shape=(None, 1) dtype=float32 (created by layer 'I5')>,\n",
              " <KerasTensor: shape=(None, 1) dtype=float32 (created by layer 'I6')>,\n",
              " <KerasTensor: shape=(None, 1) dtype=float32 (created by layer 'I7')>,\n",
              " <KerasTensor: shape=(None, 1) dtype=float32 (created by layer 'I8')>,\n",
              " <KerasTensor: shape=(None, 1) dtype=float32 (created by layer 'I9')>,\n",
              " <KerasTensor: shape=(None, 1) dtype=float32 (created by layer 'I10')>,\n",
              " <KerasTensor: shape=(None, 1) dtype=float32 (created by layer 'I11')>,\n",
              " <KerasTensor: shape=(None, 1) dtype=float32 (created by layer 'I12')>,\n",
              " <KerasTensor: shape=(None, 1) dtype=float32 (created by layer 'I13')>]"
            ]
          },
          "metadata": {},
          "execution_count": 27
        }
      ],
      "source": [
        "dense_inputs"
      ]
    },
    {
      "cell_type": "code",
      "execution_count": 23,
      "metadata": {
        "id": "-CQZ4znTSCKm"
      },
      "outputs": [],
      "source": [
        "concat_dense_inputs = Concatenate(axis=1)(dense_inputs)\n",
        "fst_order_dense_layer = Dense(1)(concat_dense_inputs)"
      ]
    },
    {
      "cell_type": "code",
      "source": [
        "concat_dense_inputs"
      ],
      "metadata": {
        "colab": {
          "base_uri": "https://localhost:8080/"
        },
        "id": "f6XMimfGEucq",
        "outputId": "c46a9789-14ea-4add-b4ca-7ccf015760ee"
      },
      "execution_count": 24,
      "outputs": [
        {
          "output_type": "execute_result",
          "data": {
            "text/plain": [
              "<KerasTensor: shape=(None, 13) dtype=float32 (created by layer 'concatenate')>"
            ]
          },
          "metadata": {},
          "execution_count": 24
        }
      ]
    },
    {
      "cell_type": "markdown",
      "metadata": {
        "id": "m92fSUJVSCKm"
      },
      "source": [
        "### sparse feature"
      ]
    },
    {
      "cell_type": "code",
      "execution_count": 25,
      "metadata": {
        "id": "SgyDWQxJSCKm"
      },
      "outputs": [],
      "source": [
        "sparse_inputs = []\n",
        "for f in sparse_feats:\n",
        "    _input = Input([1], name=f)\n",
        "    sparse_inputs.append(_input)"
      ]
    },
    {
      "cell_type": "code",
      "execution_count": 26,
      "metadata": {
        "id": "Kr_shdNrSCKn"
      },
      "outputs": [],
      "source": [
        "sparse_1d_embed = []\n",
        "for i, _input in enumerate(sparse_inputs):\n",
        "    f = sparse_feats[i]\n",
        "    voc_size = total_data[f].nunique()\n",
        "    _embed = Flatten()(Embedding(voc_size, 1, embeddings_regularizer=tf.keras.regularizers.l2(0.5))(_input))\n",
        "    sparse_1d_embed.append(_embed)"
      ]
    },
    {
      "cell_type": "code",
      "execution_count": 27,
      "metadata": {
        "id": "1j7pTkxWSCKn"
      },
      "outputs": [],
      "source": [
        "fst_order_sparse_layer = Add()(sparse_1d_embed)"
      ]
    },
    {
      "cell_type": "code",
      "execution_count": 28,
      "metadata": {
        "colab": {
          "base_uri": "https://localhost:8080/"
        },
        "id": "q2e8fwkdSCKn",
        "outputId": "bae6c33e-bb69-4253-e0b5-1fd4d2135c98"
      },
      "outputs": [
        {
          "output_type": "execute_result",
          "data": {
            "text/plain": [
              "<KerasTensor: shape=(None, 1) dtype=float32 (created by layer 'add')>"
            ]
          },
          "metadata": {},
          "execution_count": 28
        }
      ],
      "source": [
        "fst_order_sparse_layer"
      ]
    },
    {
      "cell_type": "markdown",
      "metadata": {
        "id": "0WLaPa2aSCKn"
      },
      "source": [
        "### Concatenate the sparse feature and the dense feature"
      ]
    },
    {
      "cell_type": "code",
      "execution_count": 29,
      "metadata": {
        "id": "CUlGaElkSCKn"
      },
      "outputs": [],
      "source": [
        "linear_part = Add()([fst_order_dense_layer, fst_order_sparse_layer])"
      ]
    },
    {
      "cell_type": "markdown",
      "metadata": {
        "id": "Oht5eReBSCKo"
      },
      "source": [
        "## Compressed Interaction Network"
      ]
    },
    {
      "cell_type": "code",
      "execution_count": 30,
      "metadata": {
        "id": "kC2K_SJXSCKo"
      },
      "outputs": [],
      "source": [
        "D = 8"
      ]
    },
    {
      "cell_type": "code",
      "execution_count": 31,
      "metadata": {
        "id": "HV-ze-zeSCKo"
      },
      "outputs": [],
      "source": [
        "# the 2nd order interaction between sparse features\n",
        "sparse_kd_embed = []\n",
        "for i, _input in enumerate(sparse_inputs):\n",
        "    f = sparse_feats[i]\n",
        "    voc_size = total_data[f].nunique()\n",
        "    _embed = Embedding(voc_size, D, embeddings_regularizer=tf.keras.regularizers.l2(0.7))(_input)\n",
        "    sparse_kd_embed.append(_embed)"
      ]
    },
    {
      "cell_type": "code",
      "execution_count": 32,
      "metadata": {
        "colab": {
          "base_uri": "https://localhost:8080/"
        },
        "id": "MAYkufLRSCKo",
        "outputId": "deedc034-ce96-4676-b954-0dd14a27ebb9"
      },
      "outputs": [
        {
          "output_type": "execute_result",
          "data": {
            "text/plain": [
              "[<KerasTensor: shape=(None, 1, 8) dtype=float32 (created by layer 'embedding_26')>,\n",
              " <KerasTensor: shape=(None, 1, 8) dtype=float32 (created by layer 'embedding_27')>,\n",
              " <KerasTensor: shape=(None, 1, 8) dtype=float32 (created by layer 'embedding_28')>,\n",
              " <KerasTensor: shape=(None, 1, 8) dtype=float32 (created by layer 'embedding_29')>,\n",
              " <KerasTensor: shape=(None, 1, 8) dtype=float32 (created by layer 'embedding_30')>,\n",
              " <KerasTensor: shape=(None, 1, 8) dtype=float32 (created by layer 'embedding_31')>,\n",
              " <KerasTensor: shape=(None, 1, 8) dtype=float32 (created by layer 'embedding_32')>,\n",
              " <KerasTensor: shape=(None, 1, 8) dtype=float32 (created by layer 'embedding_33')>,\n",
              " <KerasTensor: shape=(None, 1, 8) dtype=float32 (created by layer 'embedding_34')>,\n",
              " <KerasTensor: shape=(None, 1, 8) dtype=float32 (created by layer 'embedding_35')>,\n",
              " <KerasTensor: shape=(None, 1, 8) dtype=float32 (created by layer 'embedding_36')>,\n",
              " <KerasTensor: shape=(None, 1, 8) dtype=float32 (created by layer 'embedding_37')>,\n",
              " <KerasTensor: shape=(None, 1, 8) dtype=float32 (created by layer 'embedding_38')>,\n",
              " <KerasTensor: shape=(None, 1, 8) dtype=float32 (created by layer 'embedding_39')>,\n",
              " <KerasTensor: shape=(None, 1, 8) dtype=float32 (created by layer 'embedding_40')>,\n",
              " <KerasTensor: shape=(None, 1, 8) dtype=float32 (created by layer 'embedding_41')>,\n",
              " <KerasTensor: shape=(None, 1, 8) dtype=float32 (created by layer 'embedding_42')>,\n",
              " <KerasTensor: shape=(None, 1, 8) dtype=float32 (created by layer 'embedding_43')>,\n",
              " <KerasTensor: shape=(None, 1, 8) dtype=float32 (created by layer 'embedding_44')>,\n",
              " <KerasTensor: shape=(None, 1, 8) dtype=float32 (created by layer 'embedding_45')>,\n",
              " <KerasTensor: shape=(None, 1, 8) dtype=float32 (created by layer 'embedding_46')>,\n",
              " <KerasTensor: shape=(None, 1, 8) dtype=float32 (created by layer 'embedding_47')>,\n",
              " <KerasTensor: shape=(None, 1, 8) dtype=float32 (created by layer 'embedding_48')>,\n",
              " <KerasTensor: shape=(None, 1, 8) dtype=float32 (created by layer 'embedding_49')>,\n",
              " <KerasTensor: shape=(None, 1, 8) dtype=float32 (created by layer 'embedding_50')>,\n",
              " <KerasTensor: shape=(None, 1, 8) dtype=float32 (created by layer 'embedding_51')>]"
            ]
          },
          "metadata": {},
          "execution_count": 32
        }
      ],
      "source": [
        "sparse_kd_embed"
      ]
    },
    {
      "cell_type": "code",
      "execution_count": 33,
      "metadata": {
        "id": "FZGGY-ZISCKo"
      },
      "outputs": [],
      "source": [
        "# Construct feature map\n",
        "input_feature_map = Concatenate(axis=1)(sparse_kd_embed)"
      ]
    },
    {
      "cell_type": "code",
      "execution_count": 35,
      "metadata": {
        "id": "z88_AWjZSCKo"
      },
      "outputs": [],
      "source": [
        "def compressed_interaction_net(x0, xl, D, n_filters):\n",
        "    \"\"\"\n",
        "    @param x0: original input\n",
        "    @param xl: the first layer's input\n",
        "    @param D: embedding dim\n",
        "    @param n_filters: the number of filters of the compressed network\n",
        "    \"\"\"\n",
        "    # x0 has m features, x1 has h features.\n",
        "    \n",
        "    # 1. split x0 and x1 to D columns according to the k dimension, \n",
        "    x0_cols = tf.split(x0, D, axis=-1)  # ?, m, D\n",
        "    xl_cols = tf.split(xl, D, axis=-1)  # ?, h, D\n",
        "    \n",
        "    assert len(x0_cols)==len(xl_cols), print(\"error shape!\")\n",
        "    \n",
        "    # 2. tranverse D columns, calculate the out product of the ith column of x0 and x1\n",
        "    # and save the result into the feature_map\n",
        "    feature_maps = []\n",
        "    for i in range(D):\n",
        "        # transpose_b=True , transpose x0_cols[i] \n",
        "        feature_map = tf.matmul(xl_cols[i], x0_cols[i], transpose_b=True)  # outer product ?, h, m\n",
        "        feature_map = tf.expand_dims(feature_map, axis=-1)  # ?, h, m, 1\n",
        "        feature_maps.append(feature_map)\n",
        "    \n",
        "    # 3. obtain the tensor with the dimension of  h × m × D \n",
        "    feature_maps = Concatenate(axis=-1)(feature_maps)  # ?, h, m, D\n",
        "    \n",
        "    # 3. the compress network\n",
        "    x0_n_feats = x0.get_shape()[1]  # m\n",
        "    xl_n_feats = xl.get_shape()[1]  # h\n",
        "    reshaped_feature_maps = Reshape(target_shape=(x0_n_feats * xl_n_feats, D))(feature_maps)  # ?, h*m, D\n",
        "    transposed_feature_maps = tf.transpose(reshaped_feature_maps, [0, 2, 1])  # ?, D, h*m\n",
        "    \n",
        "    # Conv1D：use n_filters kernels, step =1\n",
        "    new_feature_maps = Conv1D(n_filters, kernel_size=1, strides=1)(transposed_feature_maps)  # ?, D, n_filters\n",
        "    # ensure the result is D dimensional.\n",
        "    new_feature_maps = tf.transpose(new_feature_maps, [0, 2, 1])  # ?, n_filters, D\n",
        "    \n",
        "    return new_feature_maps"
      ]
    },
    {
      "cell_type": "code",
      "execution_count": 36,
      "metadata": {
        "id": "-mEerJSHSCKp"
      },
      "outputs": [],
      "source": [
        "def build_cin(x0, D=8, n_layers=3, n_filters=12):\n",
        "    \"\"\"\n",
        "    construct CIN networks\n",
        "    @param x0: the original input feature maps: ?, m, D\n",
        "    @param D: feature embedding dimension\n",
        "    @param n_layers: the number of layers of CIN network \n",
        "    @param n_filters: the number of feature_maps of the output of the CIN\n",
        "    \"\"\"\n",
        "#     # cin layers\n",
        "#     cin_layers = []\n",
        "    # save the result of the cin sum pooling\n",
        "    pooling_layers = []\n",
        "    xl = x0\n",
        "    for layer in range(n_layers):\n",
        "        xl = compressed_interaction_net(x0, xl, D, n_filters)\n",
        "#         cin_layers.append(xl)\n",
        "        # sum pooling\n",
        "        pooling = Lambda(lambda x: K.sum(x, axis=-1))(xl)\n",
        "        pooling_layers.append(pooling)\n",
        "    \n",
        "    # concatenate the output of pooling layers\n",
        "    output = Concatenate(axis=-1)(pooling_layers)\n",
        "    \n",
        "    return output"
      ]
    },
    {
      "cell_type": "code",
      "execution_count": 37,
      "metadata": {
        "id": "U6D77wOESCKq"
      },
      "outputs": [],
      "source": [
        "cin_layer = build_cin(input_feature_map)"
      ]
    },
    {
      "cell_type": "code",
      "execution_count": 38,
      "metadata": {
        "colab": {
          "base_uri": "https://localhost:8080/"
        },
        "id": "XTsu9wd1SCKq",
        "outputId": "2e7b202a-c3c7-4582-ac73-594533f93eb4"
      },
      "outputs": [
        {
          "output_type": "execute_result",
          "data": {
            "text/plain": [
              "<KerasTensor: shape=(None, 36) dtype=float32 (created by layer 'concatenate_5')>"
            ]
          },
          "metadata": {},
          "execution_count": 38
        }
      ],
      "source": [
        "cin_layer"
      ]
    },
    {
      "cell_type": "markdown",
      "metadata": {
        "id": "VP0iVvRWSCKq"
      },
      "source": [
        "## DNN Part"
      ]
    },
    {
      "cell_type": "code",
      "execution_count": 39,
      "metadata": {
        "id": "HuJVEVNlSCKr"
      },
      "outputs": [],
      "source": [
        "embed_inputs = Flatten()(Concatenate(axis=-1)(sparse_kd_embed))"
      ]
    },
    {
      "cell_type": "code",
      "execution_count": 40,
      "metadata": {
        "id": "SRckAm2QSCKr"
      },
      "outputs": [],
      "source": [
        "fc_layer = Dropout(0.5)(Dense(128, activation='relu')(embed_inputs))\n",
        "fc_layer = Dropout(0.3)(Dense(128, activation='relu')(fc_layer))\n",
        "fc_layer_output = Dropout(0.1)(Dense(128, activation='relu')(fc_layer))"
      ]
    },
    {
      "cell_type": "code",
      "execution_count": 41,
      "metadata": {
        "colab": {
          "base_uri": "https://localhost:8080/"
        },
        "id": "CaRBJRxMSCKr",
        "outputId": "ee7bc599-57b5-4ea7-da6e-70fdba08911c"
      },
      "outputs": [
        {
          "output_type": "execute_result",
          "data": {
            "text/plain": [
              "<KerasTensor: shape=(None, 128) dtype=float32 (created by layer 'dropout_2')>"
            ]
          },
          "metadata": {},
          "execution_count": 41
        }
      ],
      "source": [
        "fc_layer_output"
      ]
    },
    {
      "cell_type": "markdown",
      "metadata": {
        "id": "JPbYFEN_SCKr"
      },
      "source": [
        "## Output Layer"
      ]
    },
    {
      "cell_type": "code",
      "execution_count": 42,
      "metadata": {
        "colab": {
          "base_uri": "https://localhost:8080/"
        },
        "id": "LYxPgz3RSCKr",
        "outputId": "3a502210-2f28-49a7-e42c-d3266aa6f5f8"
      },
      "outputs": [
        {
          "output_type": "execute_result",
          "data": {
            "text/plain": [
              "<KerasTensor: shape=(None, 1) dtype=float32 (created by layer 'add_1')>"
            ]
          },
          "metadata": {},
          "execution_count": 42
        }
      ],
      "source": [
        "linear_part"
      ]
    },
    {
      "cell_type": "code",
      "execution_count": 43,
      "metadata": {
        "colab": {
          "base_uri": "https://localhost:8080/"
        },
        "id": "-ilqQF53SCKr",
        "outputId": "63bec812-7c99-4976-dee5-26447fc4861b"
      },
      "outputs": [
        {
          "output_type": "execute_result",
          "data": {
            "text/plain": [
              "<KerasTensor: shape=(None, 36) dtype=float32 (created by layer 'concatenate_5')>"
            ]
          },
          "metadata": {},
          "execution_count": 43
        }
      ],
      "source": [
        "cin_layer"
      ]
    },
    {
      "cell_type": "code",
      "execution_count": 44,
      "metadata": {
        "colab": {
          "base_uri": "https://localhost:8080/"
        },
        "id": "4DuhWdbxSCKs",
        "outputId": "1b831ead-8f99-4182-b828-9c14acdbd5ee"
      },
      "outputs": [
        {
          "output_type": "execute_result",
          "data": {
            "text/plain": [
              "<KerasTensor: shape=(None, 128) dtype=float32 (created by layer 'dropout_2')>"
            ]
          },
          "metadata": {},
          "execution_count": 44
        }
      ],
      "source": [
        "fc_layer_output"
      ]
    },
    {
      "cell_type": "code",
      "execution_count": 45,
      "metadata": {
        "id": "FEFAUxiPSCKs"
      },
      "outputs": [],
      "source": [
        "concat_layer = Concatenate()([linear_part, cin_layer, fc_layer_output])"
      ]
    },
    {
      "cell_type": "code",
      "execution_count": 46,
      "metadata": {
        "id": "M_ArQQrKSCKs"
      },
      "outputs": [],
      "source": [
        "output_layer = Dense(1, activation='sigmoid')(concat_layer)"
      ]
    },
    {
      "cell_type": "code",
      "execution_count": null,
      "metadata": {
        "id": "DiXQtVLJSCKs",
        "outputId": "716f72f4-4079-4a96-917f-278082e979a2"
      },
      "outputs": [
        {
          "data": {
            "text/plain": [
              "<tf.Tensor 'dense_4/Identity:0' shape=(None, 1) dtype=float32>"
            ]
          },
          "execution_count": 38,
          "metadata": {},
          "output_type": "execute_result"
        }
      ],
      "source": [
        "output_layer"
      ]
    },
    {
      "cell_type": "markdown",
      "metadata": {
        "id": "durHNg5SSCKs"
      },
      "source": [
        "## compile model"
      ]
    },
    {
      "cell_type": "code",
      "execution_count": null,
      "metadata": {
        "id": "CS5BB9_eSCKt"
      },
      "outputs": [],
      "source": []
    },
    {
      "cell_type": "code",
      "execution_count": 47,
      "metadata": {
        "id": "SPTcjCfFSCKt"
      },
      "outputs": [],
      "source": [
        "model = Model(dense_inputs+sparse_inputs, output_layer)"
      ]
    },
    {
      "cell_type": "code",
      "execution_count": null,
      "metadata": {
        "id": "ne36rJ31SCKt"
      },
      "outputs": [],
      "source": [
        "# plot_model(model, \"xdeepfm.png\")"
      ]
    },
    {
      "cell_type": "code",
      "execution_count": null,
      "metadata": {
        "id": "km_wIlavSCKt"
      },
      "outputs": [],
      "source": [
        "model.summary()"
      ]
    },
    {
      "cell_type": "code",
      "execution_count": null,
      "metadata": {
        "id": "W20l6pkRSCKt"
      },
      "outputs": [],
      "source": []
    },
    {
      "cell_type": "code",
      "execution_count": 49,
      "metadata": {
        "id": "hVgtm9k9SCKt"
      },
      "outputs": [],
      "source": [
        "model.compile(optimizer=\"adam\", \n",
        "              loss=\"binary_crossentropy\", \n",
        "              metrics=[\"binary_crossentropy\", tf.keras.metrics.AUC(name='auc')])"
      ]
    },
    {
      "cell_type": "markdown",
      "metadata": {
        "id": "rZmhNMLfSCKt"
      },
      "source": [
        "## training"
      ]
    },
    {
      "cell_type": "code",
      "execution_count": 50,
      "metadata": {
        "id": "TSNdSvUlSCKt"
      },
      "outputs": [],
      "source": [
        "train_data = total_data.loc[:500000-1]\n",
        "valid_data = total_data.loc[500000:]"
      ]
    },
    {
      "cell_type": "code",
      "execution_count": 51,
      "metadata": {
        "id": "bxjVMZBgSCKu"
      },
      "outputs": [],
      "source": [
        "train_dense_x = [train_data[f].values for f in dense_feats]\n",
        "train_sparse_x = [train_data[f].values for f in sparse_feats]"
      ]
    },
    {
      "cell_type": "code",
      "execution_count": 52,
      "metadata": {
        "id": "YYQxNxB-SCKu"
      },
      "outputs": [],
      "source": [
        "train_label = [train_data['label'].values]"
      ]
    },
    {
      "cell_type": "code",
      "execution_count": 53,
      "metadata": {
        "id": "6cqmbEeSSCKu"
      },
      "outputs": [],
      "source": [
        "val_dense_x = [valid_data[f].values for f in dense_feats]\n",
        "val_sparse_x = [valid_data[f].values for f in sparse_feats]"
      ]
    },
    {
      "cell_type": "code",
      "execution_count": 54,
      "metadata": {
        "id": "SreCemCfSCKu"
      },
      "outputs": [],
      "source": [
        "val_label = [valid_data['label'].values]"
      ]
    },
    {
      "cell_type": "code",
      "execution_count": null,
      "metadata": {
        "id": "7-ILGVCrSCKu"
      },
      "outputs": [],
      "source": []
    },
    {
      "cell_type": "code",
      "execution_count": 56,
      "metadata": {
        "colab": {
          "base_uri": "https://localhost:8080/"
        },
        "id": "gAYJeu47SCKu",
        "outputId": "1ff79627-aa5d-427c-d317-d08276a5a287"
      },
      "outputs": [
        {
          "output_type": "stream",
          "name": "stdout",
          "text": [
            "Epoch 1/5\n",
            "1954/1954 [==============================] - 347s 177ms/step - loss: 0.5826 - binary_crossentropy: 0.5005 - auc: 0.7337 - val_loss: 0.5806 - val_binary_crossentropy: 0.5052 - val_auc: 0.7337\n",
            "Epoch 2/5\n",
            "1954/1954 [==============================] - 319s 163ms/step - loss: 0.5935 - binary_crossentropy: 0.4980 - auc: 0.7377 - val_loss: 0.5964 - val_binary_crossentropy: 0.5012 - val_auc: 0.7373\n",
            "Epoch 3/5\n",
            "1954/1954 [==============================] - 306s 157ms/step - loss: 0.6093 - binary_crossentropy: 0.4964 - auc: 0.7399 - val_loss: 0.6084 - val_binary_crossentropy: 0.5040 - val_auc: 0.7333\n",
            "Epoch 4/5\n",
            "1954/1954 [==============================] - 295s 151ms/step - loss: 0.6082 - binary_crossentropy: 0.4960 - auc: 0.7405 - val_loss: 0.6152 - val_binary_crossentropy: 0.5004 - val_auc: 0.7389\n",
            "Epoch 5/5\n",
            "1954/1954 [==============================] - 295s 151ms/step - loss: 0.6114 - binary_crossentropy: 0.4952 - auc: 0.7416 - val_loss: 0.6320 - val_binary_crossentropy: 0.5009 - val_auc: 0.7373\n"
          ]
        },
        {
          "output_type": "execute_result",
          "data": {
            "text/plain": [
              "<keras.callbacks.History at 0x7f5242956040>"
            ]
          },
          "metadata": {},
          "execution_count": 56
        }
      ],
      "source": [
        "model.fit(train_dense_x+train_sparse_x, \n",
        "          train_label, epochs=5, batch_size=256,\n",
        "          validation_data=(val_dense_x+val_sparse_x, val_label)\n",
        "         )"
      ]
    },
    {
      "cell_type": "code",
      "execution_count": null,
      "metadata": {
        "id": "VvXQCvRaSCKu"
      },
      "outputs": [],
      "source": []
    },
    {
      "cell_type": "code",
      "execution_count": null,
      "metadata": {
        "id": "Tc6s0djDSCKv"
      },
      "outputs": [],
      "source": []
    },
    {
      "cell_type": "code",
      "execution_count": null,
      "metadata": {
        "id": "sf2YnIVUSCKv"
      },
      "outputs": [],
      "source": []
    },
    {
      "cell_type": "code",
      "execution_count": null,
      "metadata": {
        "id": "y8BkJ3G3SCKv"
      },
      "outputs": [],
      "source": []
    }
  ],
  "metadata": {
    "kernelspec": {
      "display_name": "Python 3",
      "language": "python",
      "name": "python3"
    },
    "language_info": {
      "codemirror_mode": {
        "name": "ipython",
        "version": 3
      },
      "file_extension": ".py",
      "mimetype": "text/x-python",
      "name": "python",
      "nbconvert_exporter": "python",
      "pygments_lexer": "ipython3",
      "version": "3.7.3"
    },
    "toc": {
      "base_numbering": 1,
      "nav_menu": {},
      "number_sections": true,
      "sideBar": true,
      "skip_h1_title": false,
      "title_cell": "Table of Contents",
      "title_sidebar": "Contents",
      "toc_cell": false,
      "toc_position": {},
      "toc_section_display": true,
      "toc_window_display": true
    },
    "colab": {
      "provenance": []
    }
  },
  "nbformat": 4,
  "nbformat_minor": 0
}